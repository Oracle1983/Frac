{
 "cells": [
  {
   "cell_type": "markdown",
   "metadata": {},
   "source": [
    "# CGH Referral of Fracture and Non-Fracture Patients using K-Nearest Neighbors (KNN)"
   ]
  },
  {
   "cell_type": "code",
   "execution_count": 120,
   "metadata": {},
   "outputs": [],
   "source": [
    "# Basics\n",
    "import pandas as pd\n",
    "import numpy as np\n",
    "from numpy import arange\n",
    "import matplotlib\n",
    "import matplotlib.pyplot as plt\n",
    "import seaborn as sns\n",
    "import scipy\n",
    "import sklearn\n",
    "import time\n",
    "import os\n",
    "import copy\n",
    "import collections\n",
    "\n",
    "# General ML\n",
    "from pandas import read_csv\n",
    "from pandas import set_option\n",
    "from pandas.plotting import scatter_matrix\n",
    "from sklearn.metrics import accuracy_score\n",
    "from sklearn.metrics import confusion_matrix\n",
    "from sklearn.preprocessing import StandardScaler\n",
    "from sklearn.model_selection import train_test_split\n",
    "from sklearn.model_selection import KFold\n",
    "from sklearn.model_selection import cross_val_score\n",
    "from sklearn.model_selection import GridSearchCV\n",
    "from sklearn.linear_model import LinearRegression\n",
    "from sklearn.linear_model import Lasso\n",
    "from sklearn.linear_model import ElasticNet\n",
    "from sklearn.tree import DecisionTreeRegressor\n",
    "from sklearn.neighbors import KNeighborsRegressor\n",
    "from sklearn.svm import SVR\n",
    "from sklearn.pipeline import Pipeline\n",
    "from sklearn.ensemble import RandomForestRegressor\n",
    "from sklearn.ensemble import GradientBoostingRegressor\n",
    "from sklearn.ensemble import ExtraTreesRegressor\n",
    "from sklearn.ensemble import AdaBoostRegressor\n",
    "from sklearn.metrics import mean_squared_error"
   ]
  },
  {
   "cell_type": "code",
   "execution_count": 2,
   "metadata": {},
   "outputs": [
    {
     "name": "stdout",
     "output_type": "stream",
     "text": [
      "pandas: 0.21.1\n",
      "numpy: 1.12.1\n",
      "matplotlib: 2.1.1\n",
      "seaborn: 0.8.1\n",
      "scipy: 1.0.0\n",
      "sklearn: 0.19.1\n"
     ]
    }
   ],
   "source": [
    "# Check library versions\n",
    "print('pandas: {}'.format(pd.__version__))\n",
    "print('numpy: {}'.format(np.__version__))\n",
    "print('matplotlib: {}'.format(matplotlib.__version__))\n",
    "print('seaborn: {}'.format(sns.__version__))\n",
    "print('scipy: {}'.format(scipy.__version__))\n",
    "print('sklearn: {}'.format(sklearn.__version__))"
   ]
  },
  {
   "cell_type": "markdown",
   "metadata": {},
   "source": [
    "## Topics for discussion"
   ]
  },
  {
   "cell_type": "markdown",
   "metadata": {},
   "source": [
    "1. Demo of concept to clinicians\n",
    "    - Data source\n",
    "    - Making predictions with KNN\n",
    "    - Initial results\n",
    "    - Concept of KNN\n",
    "        - Distance between test point and rest of data points\n",
    "        - K nearest neighbors (shortest distance)\n",
    "        - Predicted value = majority of labels of K nearest neighbors\n",
    "    - Long term system integration\n",
    "        - Auto-suggest (from model prediction) but allow manual adjustment\n",
    "        - Build up training set\n",
    "2. Data \n",
    "    - Missing values\n",
    "    - Conversion into float type\n",
    "3. Choice of model\n",
    "    - KNN computational expensive\n",
    "    - With suffer at inference when datasize is too large\n",
    "4. Maintenance of model\n",
    "    - Train and test set update\n",
    "    - Model performance"
   ]
  },
  {
   "cell_type": "markdown",
   "metadata": {},
   "source": [
    "## Demostration of KNN"
   ]
  },
  {
   "cell_type": "code",
   "execution_count": 3,
   "metadata": {},
   "outputs": [
    {
     "data": {
      "text/html": [
       "<div>\n",
       "<style scoped>\n",
       "    .dataframe tbody tr th:only-of-type {\n",
       "        vertical-align: middle;\n",
       "    }\n",
       "\n",
       "    .dataframe tbody tr th {\n",
       "        vertical-align: top;\n",
       "    }\n",
       "\n",
       "    .dataframe thead th {\n",
       "        text-align: right;\n",
       "    }\n",
       "</style>\n",
       "<table border=\"1\" class=\"dataframe\">\n",
       "  <thead>\n",
       "    <tr style=\"text-align: right;\">\n",
       "      <th></th>\n",
       "      <th>sepal_length</th>\n",
       "      <th>sepal_width</th>\n",
       "      <th>petal_length</th>\n",
       "      <th>petal_width</th>\n",
       "      <th>class</th>\n",
       "    </tr>\n",
       "  </thead>\n",
       "  <tbody>\n",
       "    <tr>\n",
       "      <th>0</th>\n",
       "      <td>5.1</td>\n",
       "      <td>3.5</td>\n",
       "      <td>1.4</td>\n",
       "      <td>0.2</td>\n",
       "      <td>Iris-setosa</td>\n",
       "    </tr>\n",
       "    <tr>\n",
       "      <th>1</th>\n",
       "      <td>4.9</td>\n",
       "      <td>3.0</td>\n",
       "      <td>1.4</td>\n",
       "      <td>0.2</td>\n",
       "      <td>Iris-setosa</td>\n",
       "    </tr>\n",
       "    <tr>\n",
       "      <th>2</th>\n",
       "      <td>4.7</td>\n",
       "      <td>3.2</td>\n",
       "      <td>1.3</td>\n",
       "      <td>0.2</td>\n",
       "      <td>Iris-setosa</td>\n",
       "    </tr>\n",
       "    <tr>\n",
       "      <th>3</th>\n",
       "      <td>4.6</td>\n",
       "      <td>3.1</td>\n",
       "      <td>1.5</td>\n",
       "      <td>0.2</td>\n",
       "      <td>Iris-setosa</td>\n",
       "    </tr>\n",
       "    <tr>\n",
       "      <th>4</th>\n",
       "      <td>5.0</td>\n",
       "      <td>3.6</td>\n",
       "      <td>1.4</td>\n",
       "      <td>0.2</td>\n",
       "      <td>Iris-setosa</td>\n",
       "    </tr>\n",
       "  </tbody>\n",
       "</table>\n",
       "</div>"
      ],
      "text/plain": [
       "   sepal_length  sepal_width  petal_length  petal_width        class\n",
       "0           5.1          3.5           1.4          0.2  Iris-setosa\n",
       "1           4.9          3.0           1.4          0.2  Iris-setosa\n",
       "2           4.7          3.2           1.3          0.2  Iris-setosa\n",
       "3           4.6          3.1           1.5          0.2  Iris-setosa\n",
       "4           5.0          3.6           1.4          0.2  Iris-setosa"
      ]
     },
     "execution_count": 3,
     "metadata": {},
     "output_type": "execute_result"
    }
   ],
   "source": [
    "# Load data\n",
    "names = ['sepal_length', 'sepal_width', 'petal_length', 'petal_width', 'class']\n",
    "\n",
    "df = pd.read_csv('iris.data.txt', header=None, names = names)\n",
    "df.head()"
   ]
  },
  {
   "cell_type": "code",
   "execution_count": 74,
   "metadata": {},
   "outputs": [
    {
     "name": "stdout",
     "output_type": "stream",
     "text": [
      "<class 'pandas.core.frame.DataFrame'>\n",
      "RangeIndex: 150 entries, 0 to 149\n",
      "Data columns (total 5 columns):\n",
      "sepal_length    150 non-null float64\n",
      "sepal_width     150 non-null float64\n",
      "petal_length    150 non-null float64\n",
      "petal_width     150 non-null float64\n",
      "class           150 non-null object\n",
      "dtypes: float64(4), object(1)\n",
      "memory usage: 5.9+ KB\n"
     ]
    }
   ],
   "source": [
    "# Useful information about the data\n",
    "df.info()"
   ]
  },
  {
   "cell_type": "code",
   "execution_count": 45,
   "metadata": {},
   "outputs": [
    {
     "data": {
      "text/plain": [
       "<seaborn.axisgrid.FacetGrid at 0x123e9fc50>"
      ]
     },
     "execution_count": 45,
     "metadata": {},
     "output_type": "execute_result"
    },
    {
     "data": {
      "image/png": "[encoded data removed]",
      "text/plain": [
       "<matplotlib.figure.Figure at 0x123e9fac8>"
      ]
     },
     "metadata": {},
     "output_type": "display_data"
    },
    {
     "data": {
      "image/png": "[encoded data removed]",
      "text/plain": [
       "<matplotlib.figure.Figure at 0x123d2e240>"
      ]
     },
     "metadata": {},
     "output_type": "display_data"
    }
   ],
   "source": [
    "# Visually show the data\n",
    "sns.lmplot(x='sepal_length', y='sepal_width', data=df, hue=\"class\", fit_reg=False, scatter_kws={'marker':'D', 's':30}, size=7)\n",
    "sns.lmplot(x='petal_length', y='petal_width', data=df, hue=\"class\", fit_reg=False, scatter_kws={'marker':'D', 's':30}, size=7)"
   ]
  },
  {
   "cell_type": "code",
   "execution_count": 6,
   "metadata": {},
   "outputs": [],
   "source": [
    "# Split features and labels from data set\n",
    "X = np.array(df.iloc[:, 0:4]); \n",
    "Y = np.array(df['class'])\n",
    "\n",
    "# Split into train and test set\n",
    "X_train, X_test, Y_train, Y_test = train_test_split(X,Y, test_size=0.33, random_state=42)"
   ]
  },
  {
   "cell_type": "code",
   "execution_count": 7,
   "metadata": {},
   "outputs": [
    {
     "name": "stdout",
     "output_type": "stream",
     "text": [
      "Parameters of KNN classifier:\n",
      "{'algorithm': 'auto', 'leaf_size': 30, 'metric': 'minkowski', 'metric_params': None, 'n_jobs': 1, 'n_neighbors': 3, 'p': 2, 'weights': 'uniform'}\n",
      "\n",
      "Predicted values as as follows:\n",
      "['Iris-versicolor' 'Iris-setosa' 'Iris-virginica' 'Iris-versicolor'\n",
      " 'Iris-versicolor' 'Iris-setosa' 'Iris-versicolor' 'Iris-virginica'\n",
      " 'Iris-versicolor' 'Iris-versicolor' 'Iris-virginica' 'Iris-setosa'\n",
      " 'Iris-setosa' 'Iris-setosa' 'Iris-setosa' 'Iris-versicolor'\n",
      " 'Iris-virginica' 'Iris-versicolor' 'Iris-versicolor' 'Iris-virginica'\n",
      " 'Iris-setosa' 'Iris-virginica' 'Iris-setosa' 'Iris-virginica'\n",
      " 'Iris-virginica' 'Iris-virginica' 'Iris-virginica' 'Iris-virginica'\n",
      " 'Iris-setosa' 'Iris-setosa' 'Iris-setosa' 'Iris-setosa' 'Iris-versicolor'\n",
      " 'Iris-setosa' 'Iris-setosa' 'Iris-virginica' 'Iris-versicolor'\n",
      " 'Iris-setosa' 'Iris-setosa' 'Iris-setosa' 'Iris-virginica'\n",
      " 'Iris-versicolor' 'Iris-versicolor' 'Iris-setosa' 'Iris-setosa'\n",
      " 'Iris-versicolor' 'Iris-versicolor' 'Iris-virginica' 'Iris-versicolor'\n",
      " 'Iris-virginica']\n",
      "\n",
      "Actual values are as follows:\n",
      "['Iris-versicolor' 'Iris-setosa' 'Iris-virginica' 'Iris-versicolor'\n",
      " 'Iris-versicolor' 'Iris-setosa' 'Iris-versicolor' 'Iris-virginica'\n",
      " 'Iris-versicolor' 'Iris-versicolor' 'Iris-virginica' 'Iris-setosa'\n",
      " 'Iris-setosa' 'Iris-setosa' 'Iris-setosa' 'Iris-versicolor'\n",
      " 'Iris-virginica' 'Iris-versicolor' 'Iris-versicolor' 'Iris-virginica'\n",
      " 'Iris-setosa' 'Iris-virginica' 'Iris-setosa' 'Iris-virginica'\n",
      " 'Iris-virginica' 'Iris-virginica' 'Iris-virginica' 'Iris-virginica'\n",
      " 'Iris-setosa' 'Iris-setosa' 'Iris-setosa' 'Iris-setosa' 'Iris-versicolor'\n",
      " 'Iris-setosa' 'Iris-setosa' 'Iris-virginica' 'Iris-versicolor'\n",
      " 'Iris-setosa' 'Iris-setosa' 'Iris-setosa' 'Iris-virginica'\n",
      " 'Iris-versicolor' 'Iris-versicolor' 'Iris-setosa' 'Iris-setosa'\n",
      " 'Iris-versicolor' 'Iris-virginica' 'Iris-virginica' 'Iris-versicolor'\n",
      " 'Iris-virginica']\n",
      "\n",
      "Overall acccuracy: 0.98%\n"
     ]
    }
   ],
   "source": [
    "# Fit into a KNN classifier\n",
    "from sklearn.neighbors import KNeighborsClassifier\n",
    "\n",
    "knn = KNeighborsClassifier(n_neighbors=3)\n",
    "knn.fit(X_train, Y_train)\n",
    "pred = knn.predict(X_test)\n",
    "\n",
    "print(\"Parameters of KNN classifier:\")\n",
    "print(knn.get_params())\n",
    "print('')\n",
    "\n",
    "print(\"Predicted values as as follows:\")\n",
    "print(pred)\n",
    "print('')\n",
    "\n",
    "print(\"Actual values are as follows:\")\n",
    "print(Y_test)\n",
    "print('')\n",
    "\n",
    "print(\"Overall acccuracy: {}%\".format(accuracy_score(Y_test, pred)))"
   ]
  },
  {
   "cell_type": "code",
   "execution_count": 162,
   "metadata": {},
   "outputs": [
    {
     "name": "stdout",
     "output_type": "stream",
     "text": [
      "['Iris-virginica']\n"
     ]
    }
   ],
   "source": [
    "# Making prediction for a single example (No missing data point)\n",
    "x = np.asarray([5.1,3.5,6.1,7.2]).reshape(1,-1)\n",
    "pred_test = knn.predict(x)\n",
    "print(pred_test)"
   ]
  },
  {
   "cell_type": "code",
   "execution_count": 69,
   "metadata": {},
   "outputs": [],
   "source": [
    "def print_confusion_matrix(confusion_matrix, class_names, figsize = (5,7), fontsize=14):\n",
    "    \"\"\"Prints a confusion matrix, as returned by sklearn.metrics.confusion_matrix, as a heatmap.\n",
    "    \n",
    "    Arguments\n",
    "    ---------\n",
    "    confusion_matrix: numpy.ndarray\n",
    "        The numpy.ndarray object returned from a call to sklearn.metrics.confusion_matrix. \n",
    "        Similarly constructed ndarrays can also be used.\n",
    "    class_names: list\n",
    "        An ordered list of class names, in the order they index the given confusion matrix.\n",
    "    figsize: tuple\n",
    "        A 2-long tuple, the first value determining the horizontal size of the ouputted figure,\n",
    "        the second determining the vertical size. Defaults to (10,7).\n",
    "    fontsize: int\n",
    "        Font size for axes labels. Defaults to 14.\n",
    "        \n",
    "    Returns\n",
    "    -------\n",
    "    matplotlib.figure.Figure\n",
    "        The resulting confusion matrix figure\n",
    "    \"\"\"\n",
    "    df_cm = pd.DataFrame(\n",
    "        confusion_matrix, index=class_names, columns=class_names, \n",
    "    )\n",
    "    fig = plt.figure(figsize=figsize)\n",
    "    try:\n",
    "        heatmap = sns.heatmap(df_cm, annot=True, fmt=\"d\", cmap=\"Blues\")\n",
    "    except ValueError:\n",
    "        raise ValueError(\"Confusion matrix values must be integers.\")\n",
    "    heatmap.yaxis.set_ticklabels(heatmap.yaxis.get_ticklabels(), rotation=0, ha='right', fontsize=fontsize)\n",
    "    heatmap.xaxis.set_ticklabels(heatmap.xaxis.get_ticklabels(), rotation=45, ha='right', fontsize=fontsize)\n",
    "    plt.title('Confusion matrix', fontsize=14)\n",
    "    plt.ylabel('True label', fontsize=12)\n",
    "    plt.xlabel('Predicted label', fontsize=12)\n",
    "    return heatmap"
   ]
  },
  {
   "cell_type": "code",
   "execution_count": 24,
   "metadata": {},
   "outputs": [
    {
     "data": {
      "text/plain": [
       "Iris-setosa        19\n",
       "Iris-versicolor    16\n",
       "Iris-virginica     15\n",
       "dtype: int64"
      ]
     },
     "execution_count": 24,
     "metadata": {},
     "output_type": "execute_result"
    }
   ],
   "source": [
    "pred = pd.Series(pred)\n",
    "pred.value_counts()"
   ]
  },
  {
   "cell_type": "code",
   "execution_count": 70,
   "metadata": {},
   "outputs": [
    {
     "data": {
      "text/plain": [
       "<matplotlib.axes._subplots.AxesSubplot at 0x12383ffd0>"
      ]
     },
     "execution_count": 70,
     "metadata": {},
     "output_type": "execute_result"
    },
    {
     "data": {
      "image/png": "[encoded data removed]",
      "text/plain": [
       "<matplotlib.figure.Figure at 0x11fe6d7f0>"
      ]
     },
     "metadata": {},
     "output_type": "display_data"
    }
   ],
   "source": [
    "print_confusion_matrix(confusion_matrix(Y_test, pred), class_names= ['Iris-setosa', 'Iris-versicolor', 'Iris-virginica'], figsize = (8,7), fontsize=10)"
   ]
  },
  {
   "cell_type": "markdown",
   "metadata": {},
   "source": [
    "## What is KNN? (Code algo from scratch)\n",
    "https://kevinzakka.github.io/2016/07/13/k-nearest-neighbor/"
   ]
  },
  {
   "cell_type": "code",
   "execution_count": 81,
   "metadata": {},
   "outputs": [],
   "source": [
    "def predict(X_train, Y_train, X_test, k):\n",
    "    distances = []\n",
    "    targets = []\n",
    "    \n",
    "    for i in range(len(X_train)):\n",
    "        # Compute euclidean distance between test point and each and every training data point\n",
    "        distance = np.sqrt(np.sum(np.square(X_test - X_train[i, :])))\n",
    "        # Append to a list\n",
    "        distances.append([distance, i])\n",
    "        \n",
    "    # Sort the list in increasing order\n",
    "    distances = sorted(distances)\n",
    "    \n",
    "    # Make a list of k neighbor's targets\n",
    "    for i in range(k):\n",
    "        # Get index from top k lowest distances\n",
    "        index = distances[i][1]\n",
    "        # Get labels for these points with lowest distances\n",
    "        targets.append(Y_train[index])\n",
    "        \n",
    "    # Return the most common target as predicted value\n",
    "    return collections.Counter(targets).most_common(1)[0][0]\n",
    "\n",
    "def kNearestNeighbor(X_train, Y_train, X_test, predictions, k):\n",
    "    \n",
    "    # Loop over all test data\n",
    "    for i in range(len(X_test)):\n",
    "        # Append each prediction for each test point into a list\n",
    "        predictions.append(predict(X_train, Y_train, X_test[i,:], k))"
   ]
  },
  {
   "cell_type": "code",
   "execution_count": 141,
   "metadata": {},
   "outputs": [
    {
     "name": "stdout",
     "output_type": "stream",
     "text": [
      "The accuracy of our classifier is 98.0%.\n"
     ]
    }
   ],
   "source": [
    "predictions = []\n",
    "\n",
    "kNearestNeighbor(X_train, Y_train, X_test, predictions, 5)\n",
    "predictions = np.asarray(predictions)\n",
    "\n",
    "acc = accuracy_score(Y_test, predictions)\n",
    "print('The accuracy of our classifier is {}%.'.format(acc*100))"
   ]
  },
  {
   "cell_type": "markdown",
   "metadata": {},
   "source": [
    "## Pros and Cons of KNN\n",
    "\n",
    "Pros\n",
    "\n",
    "- Simple to understand and easy to implement. \n",
    "- With zero to little training time, it can be a useful tool for off-the-bat analysis of some data set you are planning to run more complex algorithms on. \n",
    "- Furthermore, KNN works just as easily with multiclass data sets whereas other algorithms are hardcoded for the binary setting. \n",
    "- Finally, as we mentioned earlier, the non-parametric nature of KNN gives it an edge in certain settings where the data may be highly “unusual”.\n",
    "\n",
    "Cons\n",
    "\n",
    "- Computationally expensive testing phase which is impractical in industry settings. Note the rigid dichotomy between KNN and the more sophisticated Neural Network which has a lengthy training phase albeit a very fast testing phase. \n",
    "- Furthermore, KNN can suffer from skewed class distributions. For example, if a certain class is very frequent in the training set, it will tend to dominate the majority voting of the new example (large number = more common). \n",
    "- Finally, the accuracy of KNN can be severely degraded with high-dimension data because there is little difference between the nearest and farthest neighbor."
   ]
  },
  {
   "cell_type": "markdown",
   "metadata": {},
   "source": [
    "## Improving the model"
   ]
  },
  {
   "cell_type": "markdown",
   "metadata": {},
   "source": [
    "### Using GridSearch CV"
   ]
  },
  {
   "cell_type": "markdown",
   "metadata": {},
   "source": [
    "Valid options for scoring in GridSearchCV are:\n",
    "\n",
    "['accuracy', 'adjusted_mutual_info_score', 'adjusted_rand_score', 'average_precision', 'completeness_score', 'explained_variance', 'f1', 'f1_macro', 'f1_micro', 'f1_samples', 'f1_weighted', 'fowlkes_mallows_score', 'homogeneity_score', 'mutual_info_score', 'neg_log_loss', 'neg_mean_absolute_error', 'neg_mean_squared_error', 'neg_mean_squared_log_error', 'neg_median_absolute_error', 'normalized_mutual_info_score', 'precision', 'precision_macro', 'precision_micro', 'precision_samples', 'precision_weighted', 'r2', 'recall', 'recall_macro', 'recall_micro', 'recall_samples', 'recall_weighted', 'roc_auc', 'v_measure_score']"
   ]
  },
  {
   "cell_type": "code",
   "execution_count": 146,
   "metadata": {},
   "outputs": [
    {
     "name": "stdout",
     "output_type": "stream",
     "text": [
      "Best Acc: 94.0% using {'n_neighbors': 1}\n",
      "\n",
      "Accuracy(%)  Std(%)   Param\n",
      "94.0         (6.63)   with: {'n_neighbors': 1}\n",
      "Accuracy(%)  Std(%)   Param\n",
      "94.0         (6.63)   with: {'n_neighbors': 3}\n",
      "Accuracy(%)  Std(%)   Param\n",
      "94.0         (6.63)   with: {'n_neighbors': 5}\n",
      "Accuracy(%)  Std(%)   Param\n",
      "93.0         (6.40)   with: {'n_neighbors': 7}\n",
      "Accuracy(%)  Std(%)   Param\n",
      "93.0         (6.40)   with: {'n_neighbors': 9}\n",
      "Accuracy(%)  Std(%)   Param\n",
      "94.0         (6.63)   with: {'n_neighbors': 11}\n",
      "Accuracy(%)  Std(%)   Param\n",
      "93.0         (6.40)   with: {'n_neighbors': 13}\n",
      "Accuracy(%)  Std(%)   Param\n",
      "93.0         (6.40)   with: {'n_neighbors': 15}\n",
      "Accuracy(%)  Std(%)   Param\n",
      "93.0         (6.40)   with: {'n_neighbors': 17}\n",
      "Accuracy(%)  Std(%)   Param\n",
      "91.0         (8.31)   with: {'n_neighbors': 19}\n",
      "Accuracy(%)  Std(%)   Param\n",
      "93.0         (7.81)   with: {'n_neighbors': 21}\n",
      "Accuracy(%)  Std(%)   Param\n",
      "93.0         (6.40)   with: {'n_neighbors': 23}\n",
      "Accuracy(%)  Std(%)   Param\n",
      "91.0         (7.00)   with: {'n_neighbors': 25}\n",
      "Accuracy(%)  Std(%)   Param\n",
      "91.0         (8.31)   with: {'n_neighbors': 27}\n",
      "Accuracy(%)  Std(%)   Param\n",
      "90.0         (10.00)   with: {'n_neighbors': 29}\n",
      "Accuracy(%)  Std(%)   Param\n",
      "90.0         (10.00)   with: {'n_neighbors': 31}\n",
      "Accuracy(%)  Std(%)   Param\n",
      "90.0         (10.00)   with: {'n_neighbors': 33}\n",
      "Accuracy(%)  Std(%)   Param\n",
      "90.0         (10.00)   with: {'n_neighbors': 35}\n",
      "Accuracy(%)  Std(%)   Param\n",
      "90.0         (10.00)   with: {'n_neighbors': 37}\n",
      "Accuracy(%)  Std(%)   Param\n",
      "91.0         (9.43)   with: {'n_neighbors': 39}\n",
      "Accuracy(%)  Std(%)   Param\n",
      "89.0         (9.43)   with: {'n_neighbors': 41}\n",
      "Accuracy(%)  Std(%)   Param\n",
      "89.0         (9.43)   with: {'n_neighbors': 43}\n",
      "Accuracy(%)  Std(%)   Param\n",
      "90.0         (10.95)   with: {'n_neighbors': 45}\n",
      "Accuracy(%)  Std(%)   Param\n",
      "89.0         (11.36)   with: {'n_neighbors': 47}\n",
      "Accuracy(%)  Std(%)   Param\n",
      "88.0         (11.66)   with: {'n_neighbors': 49}\n"
     ]
    }
   ],
   "source": [
    "# Create list of odd numbers for fitting knn models. Avoid even to prevent ties.\n",
    "kList = list(range(1,50))\n",
    "k_values = np.array(list(filter(lambda x: x % 2 != 0, kList)))\n",
    "param_grid = dict(n_neighbors=k_values)\n",
    "\n",
    "# Use GridSearchCV to obtain optimal value of k\n",
    "num_folds = 10\n",
    "seed = 42\n",
    "scoring = 'accuracy'\n",
    "model = KNeighborsClassifier()\n",
    "kfold = KFold(n_splits=num_folds, random_state=seed)\n",
    "\n",
    "grid = GridSearchCV(estimator=model, param_grid=param_grid, scoring=scoring, cv=kfold)\n",
    "grid_result = grid.fit(X_train, Y_train)\n",
    "print('Best Acc: {0}% using {1}\\n'.format(grid_result.best_score_*100, grid_result.best_params_))\n",
    "\n",
    "means = grid_result.cv_results_['mean_test_score']\n",
    "stds = grid_result.cv_results_['std_test_score']\n",
    "params = grid_result.cv_results_['params']\n",
    "\n",
    "for mean, stdev, param in zip(means, stds, params):\n",
    "    print('Accuracy(%)  Std(%)   Param')\n",
    "    print('{0}         ({1:.2f})   with: {2}'.format(mean*100, stdev*100, param))"
   ]
  },
  {
   "cell_type": "code",
   "execution_count": 139,
   "metadata": {},
   "outputs": [
    {
     "data": {
      "image/png": "[encoded data removed]",
      "text/plain": [
       "<matplotlib.figure.Figure at 0x1219bfc18>"
      ]
     },
     "metadata": {},
     "output_type": "display_data"
    }
   ],
   "source": [
    "fig = plt.figure(figsize=(15,10))\n",
    "plt.plot(k_values, means*100)\n",
    "plt.title('Mean Test Score Vs n_neighbors', fontsize=20)\n",
    "plt.ylabel('Accuracy(%)', fontsize=12)\n",
    "plt.xlabel('Number of Neighbors K', fontsize=12)\n",
    "plt.show()"
   ]
  }
 ],
 "metadata": {
  "kernelspec": {
   "display_name": "Python 3",
   "language": "python",
   "name": "python3"
  },
  "language_info": {
   "codemirror_mode": {
    "name": "ipython",
    "version": 3
   },
   "file_extension": ".py",
   "mimetype": "text/x-python",
   "name": "python",
   "nbconvert_exporter": "python",
   "pygments_lexer": "ipython3",
   "version": "3.6.4"
  }
 },
 "nbformat": 4,
 "nbformat_minor": 2
}
